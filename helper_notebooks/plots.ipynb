{
 "cells": [
  {
   "cell_type": "code",
   "execution_count": 1,
   "metadata": {},
   "outputs": [],
   "source": [
    "import pandas as pd\n",
    "import numpy as np\n",
    "import matplotlib\n",
    "matplotlib.use(\"pgf\")\n",
    "import matplotlib.pyplot as plt\n",
    "matplotlib.rcParams.update({\n",
    "    \"pgf.texsystem\": \"pdflatex\",\n",
    "    'font.family': 'serif',\n",
    "    'text.usetex': True,\n",
    "    'pgf.rcfonts': False,\n",
    "})"
   ]
  },
  {
   "cell_type": "code",
   "execution_count": 9,
   "metadata": {},
   "outputs": [],
   "source": [
    "acc_F1M1 = pd.read_csv(\"../_logs/_logs_run_2023_03_19-05_31_15_validation_acc.csv\")[\"Value\"].to_numpy()\n",
    "acc_F1M2 = pd.read_csv(\"../_logs/_logs_run_2023_03_19-12_48_03_validation_acc.csv\")[\"Value\"].to_numpy()\n",
    "acc_F2M1 = pd.read_csv(\"../_logs/_logs_run_2023_03_20-04_52_38_validation_acc.csv\")[\"Value\"].to_numpy()\n",
    "acc_F2M2 = pd.read_csv(\"../_logs/_logs_run_2023_03_20-10_02_56_validation_acc.csv\")[\"Value\"].to_numpy()\n",
    "\n",
    "loss_F1M1 = pd.read_csv(\"../_logs/_logs_run_2023_03_19-05_31_15_validation_loss.csv\")[\"Value\"].to_numpy()\n",
    "loss_F1M2 = pd.read_csv(\"../_logs/_logs_run_2023_03_19-12_48_03_validation_loss.csv\")[\"Value\"].to_numpy()\n",
    "loss_F2M1 = pd.read_csv(\"../_logs/_logs_run_2023_03_20-04_52_38_validation_loss.csv\")[\"Value\"].to_numpy()\n",
    "loss_F2M2 = pd.read_csv(\"../_logs/_logs_run_2023_03_20-10_02_56_validation_loss.csv\")[\"Value\"].to_numpy()\n",
    "\n",
    "labels = [\"F1M1\", \"F1M2\", \"F2M1\", \"F2M2\"]\n",
    "\n",
    "epochs = np.arange(0, 10, 1)\n",
    "\n",
    "accs = [acc_F1M1, acc_F1M2, acc_F2M1, acc_F2M2]\n",
    "losses = [loss_F1M1, loss_F1M2, loss_F2M1, loss_F2M2]\n",
    "\n",
    "fig, axs = plt.subplots(1, 2, figsize=(6, 3))\n",
    "\n",
    "for acc, label in zip(accs, labels):\n",
    "    axs[0].plot(epochs, acc, label=label)\n",
    "axs[0].set_ylabel(\"Accuracy\")\n",
    "axs[0].grid()\n",
    "axs[0].set_xlabel(\"Epochs\")\n",
    "\n",
    "for loss, label in zip(losses, labels):\n",
    "    axs[1].plot(epochs, loss, label=label)\n",
    "axs[1].set_ylabel(\"Loss\")\n",
    "axs[1].grid()\n",
    "axs[1].set_xlabel(\"Epochs\")\n",
    "\n",
    "plt.tight_layout()\n",
    "plt.legend()\n",
    "plt.savefig(\"acc_loss.pgf\")\n"
   ]
  }
 ],
 "metadata": {
  "kernelspec": {
   "display_name": ".env",
   "language": "python",
   "name": "python3"
  },
  "language_info": {
   "codemirror_mode": {
    "name": "ipython",
    "version": 3
   },
   "file_extension": ".py",
   "mimetype": "text/x-python",
   "name": "python",
   "nbconvert_exporter": "python",
   "pygments_lexer": "ipython3",
   "version": "3.9.16"
  },
  "orig_nbformat": 4
 },
 "nbformat": 4,
 "nbformat_minor": 2
}
