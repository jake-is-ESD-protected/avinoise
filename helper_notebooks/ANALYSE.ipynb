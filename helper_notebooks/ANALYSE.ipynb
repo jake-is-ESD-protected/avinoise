{
 "cells": [
  {
   "attachments": {},
   "cell_type": "markdown",
   "metadata": {},
   "source": [
    "# AVINOISE"
   ]
  },
  {
   "attachments": {},
   "cell_type": "markdown",
   "metadata": {},
   "source": [
    "### SELECT PATH FOR CSV EXPORT"
   ]
  },
  {
   "cell_type": "code",
   "execution_count": 7,
   "metadata": {},
   "outputs": [],
   "source": [
    "export_path = \"./example_report.csv\""
   ]
  },
  {
   "attachments": {},
   "cell_type": "markdown",
   "metadata": {},
   "source": [
    "## FILE SELECTION"
   ]
  },
  {
   "cell_type": "code",
   "execution_count": 4,
   "metadata": {},
   "outputs": [
    {
     "name": "stderr",
     "output_type": "stream",
     "text": [
      "Exception in Tkinter callback\n",
      "Traceback (most recent call last):\n",
      "  File \"/usr/lib/python3.9/tkinter/__init__.py\", line 1892, in __call__\n",
      "    return self.func(*args)\n",
      "  File \"/tmp/ipykernel_34645/1065694726.py\", line 14, in select_folder\n",
      "    for dirpath, _, filenames in os.walk(folder):\n",
      "  File \"/usr/lib/python3.9/os.py\", line 342, in walk\n",
      "    return _walk(fspath(top), topdown, onerror, followlinks)\n",
      "TypeError: expected str, bytes or os.PathLike object, not tuple\n"
     ]
    }
   ],
   "source": [
    "import tkinter as tk\n",
    "from tkinter import filedialog\n",
    "import os\n",
    "\n",
    "\n",
    "def select_files():\n",
    "    files = filedialog.askopenfilenames()\n",
    "    file_paths.extend(list(files))\n",
    "    update_info_label()\n",
    "\n",
    "\n",
    "def select_folder():\n",
    "    folder = filedialog.askdirectory()\n",
    "    for dirpath, _, filenames in os.walk(folder):\n",
    "        for filename in filenames:\n",
    "            file_path = os.path.join(dirpath, filename)\n",
    "            if file_path.lower().endswith('.mp3') or file_path.lower().endswith('.wav'):\n",
    "                file_paths.append(file_path)\n",
    "    update_info_label()\n",
    "\n",
    "\n",
    "def update_info_label():\n",
    "    num_files = len(file_paths)\n",
    "    info_label.config(text=f\"Selected files: {num_files}\")\n",
    "\n",
    "\n",
    "def clear_selections():\n",
    "    global file_paths\n",
    "    file_paths = []\n",
    "    update_info_label()\n",
    "\n",
    "\n",
    "def browse_file():\n",
    "    filename = filedialog.askopenfilename()\n",
    "    textfield.delete(0, tk.END)\n",
    "    textfield.insert(0, filename)\n",
    "\n",
    "def save_file():\n",
    "    filename = filedialog.asksaveasfilename(defaultextension=\".csv\", initialfile=\"untitled.csv\")\n",
    "    textfield.delete(0, tk.END)\n",
    "    textfield.insert(0, filename)\n",
    "\n",
    "\n",
    "root = tk.Tk()\n",
    "#root.geometry(\"170x110\")  # set window size\n",
    "root.title(\"AVINOISE\")  # set window title\n",
    "\n",
    "file_paths = []\n",
    "\n",
    "info_label = tk.Label(root, text=\"\")\n",
    "info_label.pack(side=tk.BOTTOM)\n",
    "update_info_label()\n",
    "\n",
    "select_files_button = tk.Button(root,\n",
    "                                text=\"Select Files\",\n",
    "                                width=20,\n",
    "                                command=select_files)\n",
    "select_files_button.pack(side=tk.TOP)\n",
    "\n",
    "select_folder_button = tk.Button(root,\n",
    "                                 text=\"Select Folder\",\n",
    "                                 width=20,\n",
    "                                 command=select_folder)\n",
    "select_folder_button.pack()\n",
    "\n",
    "select_folder_button = tk.Button(root,\n",
    "                                 text=\"Clear Import\",\n",
    "                                 width=20,\n",
    "                                 command=clear_selections)\n",
    "select_folder_button.pack()\n",
    "\n",
    "textfield = tk.Entry(root, width=50)\n",
    "textfield.pack()\n",
    "\n",
    "browse_button = tk.Button(root, text=\"Import\", command=browse_file)\n",
    "browse_button.pack()\n",
    "\n",
    "save_button = tk.Button(root, text=\"Export\", command=save_file)\n",
    "save_button.pack()\n",
    "\n",
    "root.mainloop()\n"
   ]
  },
  {
   "attachments": {},
   "cell_type": "markdown",
   "metadata": {},
   "source": [
    "## ANALYSE"
   ]
  },
  {
   "cell_type": "code",
   "execution_count": 9,
   "metadata": {},
   "outputs": [
    {
     "name": "stdout",
     "output_type": "stream",
     "text": [
      "WARNING:tensorflow:6 out of the last 6 calls to <function Model.make_predict_function.<locals>.predict_function at 0x7fbf084d8280> triggered tf.function retracing. Tracing is expensive and the excessive number of tracings could be due to (1) creating @tf.function repeatedly in a loop, (2) passing tensors with different shapes, (3) passing Python objects instead of tensors. For (1), please define your @tf.function outside of the loop. For (2), @tf.function has reduce_retracing=True option that can avoid unnecessary retracing. For (3), please refer to https://www.tensorflow.org/guide/function#controlling_retracing and https://www.tensorflow.org/api_docs/python/tf/function for  more details.\n",
      "s\t| clean\t\t| contaminated\n",
      "-------------------------------------------\n",
      "5\t| 2% \t\t| 97%\n",
      "10\t| 0% \t\t| 99%\n",
      "15\t| 0% \t\t| 99%\n",
      "20\t| 0% \t\t| 100%\n",
      "25\t| 1% \t\t| 98%\n",
      "30\t| 93% \t\t| 6%\n",
      "35\t| 0% \t\t| 99%\n",
      "40\t| 0% \t\t| 100%\n",
      "45\t| 0% \t\t| 100%\n",
      "50\t| 0% \t\t| 100%\n",
      "55\t| 0% \t\t| 99%\n",
      "60\t| 0% \t\t| 100%\n",
      "65\t| 2% \t\t| 97%\n",
      "70\t| 98% \t\t| 1%\n",
      "75\t| 97% \t\t| 2%\n",
      "mean:   | 19% \t\t| 80%\n",
      "Flagged as CONTAMINATED\n"
     ]
    },
    {
     "name": "stderr",
     "output_type": "stream",
     "text": [
      "/tmp/ipykernel_32334/361382389.py:11: FutureWarning: The frame.append method is deprecated and will be removed from pandas in a future version. Use pandas.concat instead.\n",
      "  results = results.append({\"FLAG\": flag, \"NAME\": os.path.basename(filepath), \"PATH\": filepath}, ignore_index=True)\n"
     ]
    },
    {
     "name": "stdout",
     "output_type": "stream",
     "text": [
      "s\t| clean\t\t| contaminated\n",
      "-------------------------------------------\n",
      "5\t| 93% \t\t| 6%\n",
      "10\t| 0% \t\t| 100%\n",
      "15\t| 0% \t\t| 100%\n",
      "20\t| 0% \t\t| 100%\n",
      "25\t| 0% \t\t| 100%\n",
      "30\t| 0% \t\t| 100%\n",
      "35\t| 0% \t\t| 100%\n",
      "40\t| 0% \t\t| 99%\n",
      "45\t| 0% \t\t| 99%\n",
      "50\t| 0% \t\t| 99%\n",
      "55\t| 0% \t\t| 99%\n",
      "60\t| 0% \t\t| 99%\n",
      "65\t| 2% \t\t| 97%\n",
      "70\t| 99% \t\t| 0%\n",
      "75\t| 64% \t\t| 35%\n",
      "80\t| 42% \t\t| 57%\n",
      "85\t| 0% \t\t| 99%\n",
      "90\t| 0% \t\t| 99%\n",
      "95\t| 0% \t\t| 99%\n",
      "100\t| 97% \t\t| 2%\n",
      "105\t| 54% \t\t| 45%\n",
      "110\t| 25% \t\t| 74%\n",
      "115\t| 18% \t\t| 81%\n",
      "120\t| 32% \t\t| 67%\n",
      "125\t| 43% \t\t| 56%\n",
      "130\t| 92% \t\t| 7%\n",
      "135\t| 73% \t\t| 26%\n",
      "mean:   | 27% \t\t| 72%\n",
      "Flagged as CONTAMINATED\n"
     ]
    },
    {
     "name": "stderr",
     "output_type": "stream",
     "text": [
      "/tmp/ipykernel_32334/361382389.py:11: FutureWarning: The frame.append method is deprecated and will be removed from pandas in a future version. Use pandas.concat instead.\n",
      "  results = results.append({\"FLAG\": flag, \"NAME\": os.path.basename(filepath), \"PATH\": filepath}, ignore_index=True)\n"
     ]
    }
   ],
   "source": [
    "from avinoise import prediction\n",
    "import pandas as pd\n",
    "\n",
    "filepaths = file_paths\n",
    "\n",
    "def analyse(filepaths):\n",
    "    results = pd.DataFrame(columns=['FLAG', 'NAME', 'PATH'])\n",
    "    for filepath in filepaths:\n",
    "        pred, mel = prediction.predict(filepath)\n",
    "        flag = prediction.evaluate(pred)\n",
    "        results = results.append({\"FLAG\": flag, \"NAME\": os.path.basename(filepath), \"PATH\": filepath}, ignore_index=True)\n",
    "    return results\n",
    "\n",
    "results = analyse(filepaths)\n",
    "\n",
    "results.to_csv(export_path, index=False)"
   ]
  }
 ],
 "metadata": {
  "kernelspec": {
   "display_name": ".env",
   "language": "python",
   "name": "python3"
  },
  "language_info": {
   "codemirror_mode": {
    "name": "ipython",
    "version": 3
   },
   "file_extension": ".py",
   "mimetype": "text/x-python",
   "name": "python",
   "nbconvert_exporter": "python",
   "pygments_lexer": "ipython3",
   "version": "3.9.16"
  },
  "orig_nbformat": 4
 },
 "nbformat": 4,
 "nbformat_minor": 2
}
