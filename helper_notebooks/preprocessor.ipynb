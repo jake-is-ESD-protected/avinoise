{
 "cells": [
  {
   "cell_type": "code",
   "execution_count": null,
   "metadata": {},
   "outputs": [],
   "source": [
    "# run once only\n",
    "import os\n",
    "os.chdir(\"../\")\n",
    "print(os.getcwd())"
   ]
  },
  {
   "cell_type": "code",
   "execution_count": 1,
   "metadata": {
    "tags": []
   },
   "outputs": [
    {
     "name": "stdout",
     "output_type": "stream",
     "text": [
      "\n",
      "****************************Param summary****************************\n",
      "\tName\t\t\t|\tValue\n",
      "---------------------------------------------------------------------\n",
      "\tmodif\t\t\t|\t2023-03-20 09:55:47.835116\n",
      "\tsr\t\t\t|\t16384\n",
      "\tmono\t\t\t|\tTrue\n",
      "\taudio_len\t\t|\t5\n",
      "\tn_mels\t\t\t|\t32\n",
      "\tn_fft\t\t\t|\t2048\n",
      "\thop_length\t\t|\t256\n",
      "\twin_length\t\t|\t2048\n",
      "\twindow\t\t\t|\thann\n",
      "\tcenter\t\t\t|\tTrue\n",
      "\tpad_mode\t\t|\treflect\n",
      "\tnormalize\t\t|\tTrue\n",
      "\tcutoff\t\t\t|\t0.01\n",
      "\tdata_root\t\t|\t./data\n",
      "\taugmentation_source\t|\t.\\raw_data\\augmentation_source\n",
      "\traw_clean_path\t\t|\t.\\raw_data\\clean\n",
      "\traw_contaminated_path\t|\t.\\raw_data\\contaminated\n",
      "\tmodel_type\t\t|\t2\n",
      "\tclasses\t\t\t|\t['clean', 'contaminated']\n",
      "\tn_batches\t\t|\t64\n",
      "\tn_epochs\t\t|\t10\n",
      "\tmetrics\t\t\t|\t['Precision', 'Recall', 'CategoricalAccuracy']\n",
      "\ttensorboard\t\t|\tTrue\n",
      "\tverbose\t\t\t|\tFalse\n",
      "\tn_frames\t\t|\t321\n",
      "*********************************************************************\n",
      "\n"
     ]
    }
   ],
   "source": [
    "from avinoise import config, preprocess\n",
    "\n",
    "params = config.params()\n",
    "params.summary()"
   ]
  },
  {
   "cell_type": "code",
   "execution_count": null,
   "metadata": {},
   "outputs": [],
   "source": [
    "preprocess.trainTestSplit([params.raw_clean_path, params.raw_contaminated_path])\n",
    "preprocess.sliceSamples(params.data_root)"
   ]
  },
  {
   "cell_type": "code",
   "execution_count": null,
   "metadata": {},
   "outputs": [],
   "source": [
    "preprocess.evenDataset(os.path.join(params.data_root, \"train\"))\n",
    "preprocess.evenDataset(os.path.join(params.data_root, \"test\"))"
   ]
  },
  {
   "cell_type": "code",
   "execution_count": 3,
   "metadata": {
    "tags": []
   },
   "outputs": [],
   "source": [
    "from augmolino import augmentation, augmenter\n",
    "\n",
    "target_folders = [os.path.join(params.data_root, \"train\", params.classes[0]),\n",
    "                  os.path.join(params.data_root, \"train\", params.classes[1]),\n",
    "                  os.path.join(params.data_root, \"test\", params.classes[0]),\n",
    "                  os.path.join(params.data_root, \"test\", params.classes[1])]\n",
    "\n",
    "augs = [augmentation.timeStretch(rate=0.75),\n",
    "        augmentation.timeStretch(rate=1.5),\n",
    "        augmentation.pitchShift(semitones=-1),\n",
    "        augmentation.pitchShift(semitones=1),\n",
    "        augmentation.pitchShift(semitones=2),\n",
    "        augmentation.offsetAudio(s=1),\n",
    "        augmentation.offsetAudio(s=-1)]\n",
    "\n",
    "augmenter_instance = augmenter.augmenter(augmentations=augs)\n",
    "for target in target_folders:\n",
    "        augmenter_instance.execute(source=target, dest=\"auto\")"
   ]
  }
 ],
 "metadata": {
  "kernelspec": {
   "display_name": "Python 3 (ipykernel)",
   "language": "python",
   "name": "python3"
  },
  "language_info": {
   "codemirror_mode": {
    "name": "ipython",
    "version": 3
   },
   "file_extension": ".py",
   "mimetype": "text/x-python",
   "name": "python",
   "nbconvert_exporter": "python",
   "pygments_lexer": "ipython3",
   "version": "3.9.16"
  },
  "vscode": {
   "interpreter": {
    "hash": "d9d2c01a383933379d12513510644d81bff95c8b72ec870889587947d1467c0f"
   }
  }
 },
 "nbformat": 4,
 "nbformat_minor": 4
}
