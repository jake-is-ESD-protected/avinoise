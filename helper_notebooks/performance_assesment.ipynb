{
 "cells": [
  {
   "cell_type": "code",
   "execution_count": 1,
   "metadata": {},
   "outputs": [
    {
     "name": "stdout",
     "output_type": "stream",
     "text": [
      "/home/jakob/repos/dl4aed-ws2223-p2\n"
     ]
    }
   ],
   "source": [
    "# run once only\n",
    "import os\n",
    "os.chdir(\"../\")\n",
    "print(os.getcwd())"
   ]
  },
  {
   "cell_type": "code",
   "execution_count": 3,
   "metadata": {},
   "outputs": [],
   "source": [
    "from avinoise import config, prediction, extraction\n",
    "import random\n",
    "import matplotlib.pyplot as plt\n",
    "import pandas as pd\n",
    "\n",
    "params = config.params()\n",
    "\n",
    "model_paths = [\"_models/F1M1.h5\",\n",
    "               \"_models/F1M2.h5\",\n",
    "               \"_models/F2M1.h5\",\n",
    "               \"_models/F2M2.h5\",]\n",
    "\n",
    "weights_paths = [\"_models/weights_F1M1.h5\",\n",
    "                 \"_models/weights_F1M2.h5\",\n",
    "                 \"_models/weights_F2M1.h5\",\n",
    "                 \"_models/weights_F2M2.h5\",]"
   ]
  },
  {
   "cell_type": "code",
   "execution_count": null,
   "metadata": {},
   "outputs": [],
   "source": [
    "from sklearn.metrics import classification_report\n",
    "from keras.models import load_model\n",
    "import numpy as np\n",
    "train_path = os.path.join(params.data_root, \"train\")\n",
    "test_path = os.path.join(params.data_root, \"test\")\n",
    "\n",
    "for i, model, weight in enumerate(zip(model_paths, weights_paths)):\n",
    "    if i < 2: # F1 features\n",
    "        loaded_train, loaded_test = extraction.loadFeatures(train_path, test_path)\n",
    "    model = load_model(model)\n",
    "    model.load_weights(weight)\n",
    "    y_test_prob = model.predict(loaded_test)\n",
    "    y_test_pred = np.argmax(y_test_prob, axis=1)\n",
    "    y_test_true = np.argmax(np.array([y for x, y in loaded_test.unbatch().as_numpy_iterator()]), \n",
    "                            axis=1)\n",
    "\n",
    "    print('Classification report:')\n",
    "    print(classification_report(y_true=y_test_true, y_pred=y_test_pred, target_names=params.classes))\n"
   ]
  },
  {
   "cell_type": "code",
   "execution_count": 3,
   "metadata": {},
   "outputs": [],
   "source": [
    "n_samples = 80\n",
    "samples = random.sample(os.listdir(\"raw_data/clean/\"), n_samples)\n",
    "clean_data = [\"raw_data/clean/\" + s for s in samples]\n",
    "samples = random.sample(os.listdir(\"raw_data/contaminated/\"), n_samples)\n",
    "contaminated_data = [\"raw_data/contaminated/\" + s for s in samples]\n",
    "data = [clean_data, contaminated_data]\n",
    "labels = [\"CLEAN\", \"CONTAMINATED\"]\n",
    "postp_methods = [\"greaterOnce\", \"greaterMean\"]\n"
   ]
  },
  {
   "cell_type": "code",
   "execution_count": 4,
   "metadata": {},
   "outputs": [
    {
     "name": "stderr",
     "output_type": "stream",
     "text": [
      "2023-03-20 20:35:28.620560: W tensorflow/stream_executor/platform/default/dso_loader.cc:64] Could not load dynamic library 'libcuda.so.1'; dlerror: libcuda.so.1: cannot open shared object file: No such file or directory\n",
      "2023-03-20 20:35:28.620596: W tensorflow/stream_executor/cuda/cuda_driver.cc:269] failed call to cuInit: UNKNOWN ERROR (303)\n",
      "2023-03-20 20:35:28.620614: I tensorflow/stream_executor/cuda/cuda_diagnostics.cc:156] kernel driver does not appear to be running on this host (jtubuntusrvr): /proc/driver/nvidia/version does not exist\n",
      "2023-03-20 20:35:28.620804: I tensorflow/core/platform/cpu_feature_guard.cc:193] This TensorFlow binary is optimized with oneAPI Deep Neural Network Library (oneDNN) to use the following CPU instructions in performance-critical operations:  AVX2 FMA\n",
      "To enable them in other operations, rebuild TensorFlow with the appropriate compiler flags.\n"
     ]
    },
    {
     "name": "stdout",
     "output_type": "stream",
     "text": [
      "WARNING:tensorflow:5 out of the last 5 calls to <function Model.make_predict_function.<locals>.predict_function at 0x7f5cdceb7310> triggered tf.function retracing. Tracing is expensive and the excessive number of tracings could be due to (1) creating @tf.function repeatedly in a loop, (2) passing tensors with different shapes, (3) passing Python objects instead of tensors. For (1), please define your @tf.function outside of the loop. For (2), @tf.function has reduce_retracing=True option that can avoid unnecessary retracing. For (3), please refer to https://www.tensorflow.org/guide/function#controlling_retracing and https://www.tensorflow.org/api_docs/python/tf/function for  more details.\n",
      "WARNING:tensorflow:6 out of the last 6 calls to <function Model.make_predict_function.<locals>.predict_function at 0x7f5cdcf291f0> triggered tf.function retracing. Tracing is expensive and the excessive number of tracings could be due to (1) creating @tf.function repeatedly in a loop, (2) passing tensors with different shapes, (3) passing Python objects instead of tensors. For (1), please define your @tf.function outside of the loop. For (2), @tf.function has reduce_retracing=True option that can avoid unnecessary retracing. For (3), please refer to https://www.tensorflow.org/guide/function#controlling_retracing and https://www.tensorflow.org/api_docs/python/tf/function for  more details.\n",
      "64/80 correct samples for class <CLEAN> with model <_models/F1M1.h5>\n",
      "66/80 correct samples for class <CONTAMINATED> with model <_models/F1M1.h5>\n",
      "63/80 correct samples for class <CLEAN> with model <_models/F1M2.h5>\n",
      "80/80 correct samples for class <CONTAMINATED> with model <_models/F1M2.h5>\n",
      "64/80 correct samples for class <CLEAN> with model <_models/F2M1.h5>\n",
      "64/80 correct samples for class <CONTAMINATED> with model <_models/F2M1.h5>\n",
      "57/80 correct samples for class <CLEAN> with model <_models/F2M2.h5>\n",
      "73/80 correct samples for class <CONTAMINATED> with model <_models/F2M2.h5>\n",
      "80/80 correct samples for class <CLEAN> with model <_models/F1M1.h5>\n",
      "39/80 correct samples for class <CONTAMINATED> with model <_models/F1M1.h5>\n",
      "80/80 correct samples for class <CLEAN> with model <_models/F1M2.h5>\n",
      "63/80 correct samples for class <CONTAMINATED> with model <_models/F1M2.h5>\n",
      "80/80 correct samples for class <CLEAN> with model <_models/F2M1.h5>\n",
      "30/80 correct samples for class <CONTAMINATED> with model <_models/F2M1.h5>\n",
      "80/80 correct samples for class <CLEAN> with model <_models/F2M2.h5>\n",
      "41/80 correct samples for class <CONTAMINATED> with model <_models/F2M2.h5>\n"
     ]
    },
    {
     "data": {
      "image/png": "[encoded data removed]",
      "text/plain": [
       "<Figure size 640x480 with 2 Axes>"
      ]
     },
     "metadata": {},
     "output_type": "display_data"
    }
   ],
   "source": [
    "%matplotlib inline\n",
    "\n",
    "fig, axs = plt.subplots(1, 2)\n",
    "\n",
    "for n, method in enumerate(postp_methods):\n",
    "\n",
    "    corrects = []\n",
    "\n",
    "    for model_path, weights_path in zip(model_paths, weights_paths):\n",
    "\n",
    "        if \"F1\" in model_path:\n",
    "            params.add({\"normalize\": False})\n",
    "            params.add({\"cutoff\": 0})\n",
    "        else:\n",
    "            params.add({\"normalize\": True})\n",
    "            params.add({\"cutoff\": 0.01})\n",
    "            \n",
    "        for clss, label in zip(data, labels):\n",
    "\n",
    "            correct = 0\n",
    "            for file in clss:\n",
    "\n",
    "                preds, mel = prediction.predict(file, model_path, weights_path)\n",
    "                if prediction.evaluate(preds, method=method, show_text=False) == label:\n",
    "                    correct += 1\n",
    "            corrects.append(correct / n_samples)\n",
    "            print(f\"{correct}/{n_samples} correct samples for class <{label}> with model <{model_path}>\")\n",
    "\n",
    "    cleans = [val for i, val in enumerate(corrects) if i % 2 == 0]\n",
    "    contaminateds = [val for i, val in enumerate(corrects) if i % 2 != 0]\n",
    "    index = [name.replace(\"_models/\", \"\").replace(\".h5\", \"\") for name in model_paths]\n",
    "    df = pd.DataFrame({'Clean': cleans,\n",
    "                    'Contaminated': contaminateds}, index=index)\n",
    "    df.plot.bar(rot=0, ax=axs[n])\n",
    "    axs[n].set_title(method)\n",
    "    axs[n].set_ylabel(\"Accuracy\")\n",
    "\n",
    "plt.tight_layout()"
   ]
  }
 ],
 "metadata": {
  "kernelspec": {
   "display_name": ".env",
   "language": "python",
   "name": "python3"
  },
  "language_info": {
   "codemirror_mode": {
    "name": "ipython",
    "version": 3
   },
   "file_extension": ".py",
   "mimetype": "text/x-python",
   "name": "python",
   "nbconvert_exporter": "python",
   "pygments_lexer": "ipython3",
   "version": "3.9.16"
  },
  "orig_nbformat": 4
 },
 "nbformat": 4,
 "nbformat_minor": 2
}
