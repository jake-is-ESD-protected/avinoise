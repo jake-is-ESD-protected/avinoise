{
 "cells": [
  {
   "cell_type": "code",
   "execution_count": 2,
   "metadata": {},
   "outputs": [
    {
     "name": "stdout",
     "output_type": "stream",
     "text": [
      "/home/jakob/repos/dl4aed-ws2223-p2\n"
     ]
    }
   ],
   "source": [
    "# run once only\n",
    "import os\n",
    "os.chdir(\"../\")\n",
    "print(os.getcwd())"
   ]
  },
  {
   "cell_type": "code",
   "execution_count": 3,
   "metadata": {},
   "outputs": [
    {
     "name": "stdout",
     "output_type": "stream",
     "text": [
      "\n",
      "****************************Param summary****************************\n",
      "\tName\t\t\t|\tValue\n",
      "---------------------------------------------------------------------\n",
      "\tmodif\t\t\t|\t2023-03-21 17:01:18.422846\n",
      "\tsr\t\t\t|\t16384\n",
      "\tmono\t\t\t|\tTrue\n",
      "\taudio_len\t\t|\t5\n",
      "\tn_mels\t\t\t|\t32\n",
      "\tn_fft\t\t\t|\t2048\n",
      "\thop_length\t\t|\t256\n",
      "\twin_length\t\t|\t2048\n",
      "\twindow\t\t\t|\thann\n",
      "\tcenter\t\t\t|\tTrue\n",
      "\tpad_mode\t\t|\treflect\n",
      "\tnormalize\t\t|\tFalse\n",
      "\tcutoff\t\t\t|\t0.01\n",
      "\tdata_root\t\t|\t./data\n",
      "\taugmentation_source\t|\t.\\raw_data\\augmentation_source\n",
      "\traw_clean_path\t\t|\t.\\raw_data\\clean\n",
      "\traw_contaminated_path\t|\t.\\raw_data\\contaminated\n",
      "\tmodel_type\t\t|\t2\n",
      "\tclasses\t\t\t|\t['clean', 'contaminated']\n",
      "\tn_batches\t\t|\t64\n",
      "\tn_epochs\t\t|\t10\n",
      "\tmetrics\t\t\t|\t['Precision', 'Recall', 'CategoricalAccuracy']\n",
      "\ttensorboard\t\t|\tTrue\n",
      "\tverbose\t\t\t|\tFalse\n",
      "\tn_frames\t\t|\t321\n",
      "*********************************************************************\n",
      "\n"
     ]
    }
   ],
   "source": [
    "from avinoise import config\n",
    "\n",
    "params = config.params()\n",
    "params._delete()    # this is ok because this notebook is master over all params\n",
    "params.add({# audio data:\n",
    "            'sr': 16384,\n",
    "            'mono': True,\n",
    "            'audio_len': 5,\n",
    "            # spectrogram data\n",
    "            'n_mels': 32,\n",
    "            'n_fft': 2048,\n",
    "            'hop_length': 256,\n",
    "            'win_length': 2048,\n",
    "            'window': 'hann',\n",
    "            'center': True,\n",
    "            'pad_mode': 'reflect',\n",
    "            'normalize': False,\n",
    "            'cutoff': 0.01, # this is -40 dBFS\n",
    "            # dataset\n",
    "            \"data_root\": \"./data\",\n",
    "            \"augmentation_source\": \".\\\\raw_data\\\\augmentation_source\",\n",
    "            \"raw_clean_path\": \".\\\\raw_data\\\\clean\",\n",
    "            \"raw_contaminated_path\": \".\\\\raw_data\\\\contaminated\",\n",
    "            # CNN data\n",
    "            'model_type': '2',\n",
    "            'classes': [\"clean\", \"contaminated\"],\n",
    "            'n_batches': 64,\n",
    "            'n_epochs': 10,\n",
    "            'metrics': [#\"TrueNegatives\",\n",
    "                        #\"TruePositives\",\n",
    "                        #\"FalseNegatives\",\n",
    "                        #\"FalsePositives\",\n",
    "                        \"Precision\",\n",
    "                        \"Recall\",\n",
    "                        \"CategoricalAccuracy\"],\n",
    "            # process data\n",
    "            'tensorboard': True,\n",
    "            'verbose': False})   \n",
    "\n",
    "params.add({\"n_frames\": int((params.sr * params.audio_len) / params.hop_length + 1)})\n",
    "\n",
    "params.summary()"
   ]
  }
 ],
 "metadata": {
  "kernelspec": {
   "display_name": "Python 3 (ipykernel)",
   "language": "python",
   "name": "python3"
  },
  "language_info": {
   "codemirror_mode": {
    "name": "ipython",
    "version": 3
   },
   "file_extension": ".py",
   "mimetype": "text/x-python",
   "name": "python",
   "nbconvert_exporter": "python",
   "pygments_lexer": "ipython3",
   "version": "3.9.16"
  },
  "vscode": {
   "interpreter": {
    "hash": "d9d2c01a383933379d12513510644d81bff95c8b72ec870889587947d1467c0f"
   }
  }
 },
 "nbformat": 4,
 "nbformat_minor": 4
}
